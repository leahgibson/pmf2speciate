{
 "cells": [
  {
   "cell_type": "markdown",
   "id": "1f3b7c82",
   "metadata": {},
   "source": [
    "# Using pmf2speciate with esat model output\n",
    "\n",
    "Model output from [esat](https://github.com/quanted/esat) can be manipulated into pmf2speciate-ready format in a few lines of code. When using esat to perform PMF, code should look something like the following."
   ]
  },
  {
   "cell_type": "code",
   "execution_count": null,
   "id": "c4699a14",
   "metadata": {},
   "outputs": [
    {
     "ename": "",
     "evalue": "",
     "output_type": "error",
     "traceback": [
      "\u001b[1;31mRunning cells with '.venv (Python 3.13.3)' requires the ipykernel package.\n",
      "\u001b[1;31mInstall 'ipykernel' into the Python environment. \n",
      "\u001b[1;31mCommand: '/Users/leahgibson/Documents/pmf2speciate/.venv/bin/python -m pip install ipykernel -U --force-reinstall'"
     ]
    }
   ],
   "source": [
    "from esat.data.datahandler import DataHandler\n",
    "from esat.model.batch_sa import BatchSA\n",
    "\n",
    "# Train model from esat\n",
    "\n",
    "data_handler = DataHandler(\n",
    "    input_path=analyte_path,\n",
    "    uncertainty_path=uncertainty_path,\n",
    "    index_col=index_col\n",
    ")\n",
    "\n",
    "V, U = data_handler.get_data()\n",
    "sa_models = BatchSA(\n",
    "    V=V,\n",
    "    U=U,\n",
    "    factors=factors,\n",
    "    # rest of model inputs\n",
    ")\n",
    "_ = sa_models.train()\n",
    "\n",
    "best_model = sa_models.best_model\n",
    "sa_model = sa_models.results[best_model]"
   ]
  },
  {
   "cell_type": "markdown",
   "id": "a818c084",
   "metadata": {},
   "source": [
    "To pull and scale factor profiles:"
   ]
  },
  {
   "cell_type": "code",
   "execution_count": null,
   "id": "68762878",
   "metadata": {},
   "outputs": [],
   "source": [
    "compounds = data_handler.features # these names will be based on the input data\n",
    "factor_profile0 = dict(zip(data_handler.features, 100*(sa_model.H[0]/sa_model.H[0].sum())))"
   ]
  },
  {
   "cell_type": "markdown",
   "id": "fb1022b2",
   "metadata": {},
   "source": [
    "This gives a dict where the keys are the compound names and the values are the percent weights of each compound in that factor. \n",
    "\n",
    "If compounds were initially identifies using their CAS numbers, then this dict is ready to go. Otherwise, ensure that the compound names are replaced with their respective CAS numbers before continuing. "
   ]
  },
  {
   "cell_type": "code",
   "execution_count": null,
   "id": "652c204c",
   "metadata": {},
   "outputs": [],
   "source": [
    "# Use in pmf2speciate\n",
    "from pmf2speciate import SourceClassifier\n",
    "\n",
    "classifier = SourceClassifier()\n",
    "result = classifier.identify_source(factor_profile0)"
   ]
  }
 ],
 "metadata": {
  "kernelspec": {
   "display_name": ".venv",
   "language": "python",
   "name": "python3"
  },
  "language_info": {
   "name": "python",
   "version": "3.13.3"
  }
 },
 "nbformat": 4,
 "nbformat_minor": 5
}
